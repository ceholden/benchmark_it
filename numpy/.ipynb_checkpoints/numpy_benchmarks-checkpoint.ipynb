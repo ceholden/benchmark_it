{
 "metadata": {
  "name": "",
  "signature": "sha256:2a0f3cd00e811b13f8ea12eb4541acdaef6f0c0d06f5b42c1ae2402f3bae3e6a"
 },
 "nbformat": 3,
 "nbformat_minor": 0,
 "worksheets": [
  {
   "cells": [
    {
     "cell_type": "code",
     "collapsed": false,
     "input": [
      "import numpy as np"
     ],
     "language": "python",
     "metadata": {},
     "outputs": [],
     "prompt_number": 4
    },
    {
     "cell_type": "markdown",
     "metadata": {},
     "source": [
      "# Masking"
     ]
    },
    {
     "cell_type": "markdown",
     "metadata": {},
     "source": [
      "## Test: np.in1d vs. \"in\""
     ]
    },
    {
     "cell_type": "code",
     "collapsed": false,
     "input": [
      "roi = np.random.randint(0, 10, size=(1000, 1000))\n",
      "mask_values = [0, 1]"
     ],
     "language": "python",
     "metadata": {},
     "outputs": [],
     "prompt_number": 31
    },
    {
     "cell_type": "code",
     "collapsed": false,
     "input": [
      "%timeit mask_1 = np.in1d(roi, mask_values).reshape(roi.shape)\n"
     ],
     "language": "python",
     "metadata": {},
     "outputs": [
      {
       "output_type": "stream",
       "stream": "stdout",
       "text": [
        "100 loops, best of 3: 2.11 ms per loop\n"
       ]
      }
     ],
     "prompt_number": 34
    },
    {
     "cell_type": "code",
     "collapsed": false,
     "input": [
      "%timeit mask_2 = np.logical_or.reduce([roi == mv for mv in mask_values])"
     ],
     "language": "python",
     "metadata": {},
     "outputs": [
      {
       "output_type": "stream",
       "stream": "stdout",
       "text": [
        "10 loops, best of 3: 26.4 ms per loop\n"
       ]
      }
     ],
     "prompt_number": 35
    },
    {
     "cell_type": "code",
     "collapsed": false,
     "input": [
      "mask_1 = np.in1d(roi, mask_values).reshape(roi.shape)\n",
      "mask_2 = np.logical_or.reduce([roi == mv for mv in mask_values])"
     ],
     "language": "python",
     "metadata": {},
     "outputs": [],
     "prompt_number": 27
    },
    {
     "cell_type": "code",
     "collapsed": false,
     "input": [
      "np.testing.assert_equal(mask_1, mask_2)"
     ],
     "language": "python",
     "metadata": {},
     "outputs": [],
     "prompt_number": 28
    },
    {
     "cell_type": "code",
     "collapsed": false,
     "input": [
      "roi = np.random.randint(0, 10, size=(10000, 10000))\n",
      "mask_values = [0, 1, 2, 3, 4, 5]"
     ],
     "language": "python",
     "metadata": {},
     "outputs": [],
     "prompt_number": 37
    },
    {
     "cell_type": "code",
     "collapsed": false,
     "input": [
      "%timeit mask_1 = np.in1d(roi, mask_values).reshape(roi.shape)"
     ],
     "language": "python",
     "metadata": {},
     "outputs": [
      {
       "output_type": "stream",
       "stream": "stdout",
       "text": [
        "1 loops, best of 3: 730 ms per loop\n"
       ]
      }
     ],
     "prompt_number": 38
    },
    {
     "cell_type": "code",
     "collapsed": false,
     "input": [
      "%timeit mask_2 = np.logical_or.reduce([roi == mv for mv in mask_values])"
     ],
     "language": "python",
     "metadata": {},
     "outputs": [
      {
       "output_type": "stream",
       "stream": "stdout",
       "text": [
        "1 loops, best of 3: 8.15 s per loop\n"
       ]
      }
     ],
     "prompt_number": 39
    },
    {
     "cell_type": "markdown",
     "metadata": {},
     "source": [
      "### Conclusion:\n",
      "`np.in1d` is much faster at calculating the full mask image than reducing individual masks into the final mask image. It also seems to scale better."
     ]
    }
   ],
   "metadata": {}
  }
 ]
}